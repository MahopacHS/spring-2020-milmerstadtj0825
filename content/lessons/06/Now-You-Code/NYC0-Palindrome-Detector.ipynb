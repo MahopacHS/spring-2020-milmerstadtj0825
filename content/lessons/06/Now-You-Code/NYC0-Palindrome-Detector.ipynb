{
  "cells": [
    {
      "metadata": {},
      "cell_type": "markdown",
      "source": "# Now You Code In Class: Palindrome Detector\n\nWrite a program to detect palindromes [https://en.wikipedia.org/wiki/Palindrome]. A palindrome is defined as a word or phrase which is the same in reverse. Here's some example's of one word palindromes:\n\n```\ndad\nwow\npop\nabba\nnoon\nkayak\nmadam\nsolos\nracecar\n```\n\nThere's several ways you accomplish this but we'd recommend using Python's extended slice notation as covered in the readings. It's by far the simplest method. \n\nThe final program should take input and return whether the text is or is not a palindrome until you enter `quit`.\n\nSample run of complete program:\n\n```\nEnter text or type `quit`: dad\n'dad' is a palindrome.\nEnter text or type `quit`: pappa\n'pappa' is not a palindrome.\nEnter text or type `quit`: quit\n```\n\nOnce again we will use the problem simplification technique to writing this program.\n\nFirst we will write the `isPalindrome(text)` function, then we will write the main program.\n"
    },
    {
      "metadata": {},
      "cell_type": "markdown",
      "source": "## Step 1: Problem Analysis for isPalindrome function only\n\nInputs: \n\nOutputs: \n\nAlgorithm (Steps in Program):\n\n"
    },
    {
      "metadata": {
        "trusted": true
      },
      "cell_type": "code",
      "source": "## Step 2: todo write function definition here\ndef isPalindrome(word):\n    characters=len(word)\n    palindrome=(word[::-1])\n    if palindrome==word:\n        palindrome=\"%s is a palindrome\" %(word)\n    else:\n        palindrome=\"%s is not a palindrome\"  %(word)\n    return(palindrome)",
      "execution_count": 2,
      "outputs": []
    },
    {
      "metadata": {
        "trusted": true
      },
      "cell_type": "code",
      "source": "## step 3: test the isPalindrome function to make sure it works:\nprint(\"Input:\", \"kayak\", \"Should be True, Actual Value:\", isPalindrome(\"kayak\") )\nprint(\"Input:\", \"mike\", \"Should be False, Actual Value:\", isPalindrome(\"mike\") )\nprint(\"Input:\", \"quit\", \"Should stop the loop, Actual Value:\", isPalindrome(\"quit\") )",
      "execution_count": 3,
      "outputs": [
        {
          "output_type": "stream",
          "text": "Input: kayak Should be True, Actual Value: kayak is a palindrome\nInput: mike Should be False, Actual Value: mike is not a palindrome\nInput: quit Should stop the loop, Actual Value: quit is not a palindrome\n",
          "name": "stdout"
        }
      ]
    },
    {
      "metadata": {},
      "cell_type": "markdown",
      "source": "## Step 4: Problem Analysis for full Program\n\nInputs:\n\nOutputs:\n\nAlgorithm (Steps in Program):\n\n"
    },
    {
      "metadata": {
        "trusted": true
      },
      "cell_type": "code",
      "source": "## Step 5: todo write code for full problem, using the isPalindrome function to help you solve the problem\nwhile True:\n    word=input(\"Enter a word or type 'quit': \")\n    if word!=\"quit\":\n        print(isPalindrome(word))\n    else:\n        break",
      "execution_count": 4,
      "outputs": [
        {
          "output_type": "stream",
          "name": "stdout",
          "text": "Enter a word or type 'quit': kayak\nkayak is a palindrome\nEnter a word or type 'quit': mike\nmike is not a palindrome\nEnter a word or type 'quit': quit\n"
        }
      ]
    },
    {
      "metadata": {},
      "cell_type": "markdown",
      "source": "## Step 6: Questions\n\n1. Did you use a loop inside your `isPalindrome` function? Can you think of a way to re-factor it without a loop?\nI did not use a loop. \n2. How many tests are required in step 3?\n3\n3. What is the exit condition of the loop in the full program?\nIf the person types \"quit,\" the loops breaks"
    },
    {
      "metadata": {
        "collapsed": true,
        "trusted": false
      },
      "cell_type": "code",
      "source": "",
      "execution_count": null,
      "outputs": []
    }
  ],
  "metadata": {
    "anaconda-cloud": {},
    "kernelspec": {
      "name": "python3",
      "display_name": "Python 3",
      "language": "python"
    },
    "language_info": {
      "mimetype": "text/x-python",
      "nbconvert_exporter": "python",
      "name": "python",
      "file_extension": ".py",
      "version": "3.5.4",
      "pygments_lexer": "ipython3",
      "codemirror_mode": {
        "version": 3,
        "name": "ipython"
      }
    },
    "toc": {
      "base_numbering": 1,
      "nav_menu": {},
      "number_sections": false,
      "sideBar": false,
      "skip_h1_title": false,
      "title_cell": "Table of Contents",
      "title_sidebar": "Contents",
      "toc_cell": false,
      "toc_position": {},
      "toc_section_display": false,
      "toc_window_display": false
    }
  },
  "nbformat": 4,
  "nbformat_minor": 1
}