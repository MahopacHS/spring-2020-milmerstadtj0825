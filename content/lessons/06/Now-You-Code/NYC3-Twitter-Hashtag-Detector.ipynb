{
  "cells": [
    {
      "metadata": {},
      "cell_type": "markdown",
      "source": "# Now You Code 3: Twitter Hastag Detector\n\nLet's use Python's built-in string functions to help us write a program to detect Twitter hashtags in text. Here's how it should work:\n\nExample Run 1:\n\n```\nEnter Tweet: You got a 50 on the exam? #iamsad for you!\nHashtag: #iamsad\n```    \nExample Run 2:\n\n```\nEnter Tweet: #lol too funny #joke #haha\nHashtag: #lol\nHashtag: #joke\nHashtag: #haha\n```\n\nExample Run 3:\n\n```\nEnter Tweet: Happy birthday @mafudge\nHashtag: none\n```\n\nYour approach should be to split the text into words and for each word look for the hashtag `#` at the start of the word."
    },
    {
      "metadata": {},
      "cell_type": "markdown",
      "source": "## Step 1: Problem Analysis Program\n\nInputs:\n\nOutputs:\n\nAlgorithm (Steps in Program):\n\n\n"
    },
    {
      "metadata": {
        "trusted": true
      },
      "cell_type": "code",
      "source": "## Step 2: todo write code for full problem\ntext=input(\"Enter Tweet: \")\nchoices=text.split(\" \")\nfor x in choices:\n    if x.count(\"#\")>0:\n        print(x)",
      "execution_count": 30,
      "outputs": [
        {
          "output_type": "stream",
          "name": "stdout",
          "text": "Enter Tweet: it weighs 64# that's #heavy\n64#\n#heavy\n"
        }
      ]
    },
    {
      "metadata": {},
      "cell_type": "markdown",
      "source": "## Step 3: Questions\n\n1. What happens when the hashtag is not in the beginning of the word? ex. `it wights 64# that's #heavy`? Is this a problem?\n\nAnswer: it still says 64# and #heavy as hashtags. This is a problem because technically 64 isn't part of the hashtag because it comes before the hashtag\n\n\n2. Describe an approach for refactoring this code to use a function? What would the arguments and return values be? (Don't refactor the code, just describe your approach!)\n\nAnswer: write a function called findHashtag where if it finds a hashtag in the text, it would return the hashtags.\n\n\n3. Is there a way to write this program without a loop?\n\n\nAnswer: Yes. You could use just if conditonals\n"
    },
    {
      "metadata": {
        "trusted": true
      },
      "cell_type": "code",
      "source": "help(str.count)",
      "execution_count": 29,
      "outputs": [
        {
          "output_type": "stream",
          "text": "Help on method_descriptor:\n\ncount(...)\n    S.count(sub[, start[, end]]) -> int\n    \n    Return the number of non-overlapping occurrences of substring sub in\n    string S[start:end].  Optional arguments start and end are\n    interpreted as in slice notation.\n\n",
          "name": "stdout"
        }
      ]
    },
    {
      "metadata": {},
      "cell_type": "markdown",
      "source": "## Step 4: Reflection\n\nReflect upon your experience completing this assignment. This should be a personal narrative, in your own voice, and cite specifics relevant to the activity as to help the grader understand how you arrived at the code you submitted. Things to consider touching upon: Elaborate on the process itself. Did your original problem analysis work as designed?  How many iterations did you go through before you arrived at the solution? Where did you struggle along the way and how did you overcome it? What did you learn from completing the assignment? What do you need to work on to get better? What was most valuable and least valuable about this exercise? Do you have any suggestions for improvements?\n\nTo make a good reflection, you should journal your thoughts, questions and comments while you complete the exercise.\n\nKeep your response to between 100 and 250 words.\n\n`--== Write Your Reflection Below Here ==--`\n\nThis problem took me a while because I wasn't sure how to get the words after the hashtags. It took me a lot of time to figure that out until I realized I should make a list and change the wording of my loop. Now that I figured it out, I understand how it works, but it took me a very long time to get to this point. I also wasn't sure at first how the split function worked. "
    }
  ],
  "metadata": {
    "anaconda-cloud": {},
    "kernelspec": {
      "name": "python3",
      "display_name": "Python 3",
      "language": "python"
    },
    "toc": {
      "base_numbering": 1,
      "nav_menu": {},
      "number_sections": false,
      "sideBar": false,
      "skip_h1_title": false,
      "title_cell": "Table of Contents",
      "title_sidebar": "Contents",
      "toc_cell": false,
      "toc_position": {},
      "toc_section_display": false,
      "toc_window_display": false
    },
    "language_info": {
      "mimetype": "text/x-python",
      "nbconvert_exporter": "python",
      "name": "python",
      "pygments_lexer": "ipython3",
      "version": "3.5.4",
      "file_extension": ".py",
      "codemirror_mode": {
        "version": 3,
        "name": "ipython"
      }
    }
  },
  "nbformat": 4,
  "nbformat_minor": 1
}