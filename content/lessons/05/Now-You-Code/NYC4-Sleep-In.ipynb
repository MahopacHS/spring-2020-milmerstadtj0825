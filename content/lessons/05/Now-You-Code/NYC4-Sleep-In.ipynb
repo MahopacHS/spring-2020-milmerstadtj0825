{
  "cells": [
    {
      "metadata": {},
      "cell_type": "markdown",
      "source": "# Now You Code 4: Should I Sleep In?\n\nAlways. :-) \n\nActually we'd like to write a program which will suggest whether or not we can sleep in. Our criteria will be as follows.\n\n- Is it the weekend? Then sleep in.\n- Is it a holiday? Then sleep in.\n- Otherwise you need to get up!\n\nLet's write a program to input the day of the week and ask whether or not its a holiday, then make the appropriate decision as to whether or not we should sleep in.\n\nWe will use the **Write - Refactor - Test - Rewrite** approach to complete the final solution which will refactor the day of the week logic into a function."
    },
    {
      "metadata": {},
      "cell_type": "markdown",
      "source": "## Step 1: Write\n\nHere's the algorithm of this program. Write the solution in Python.\n\n```\n    input day of the week\n    input is it a holiday\n    if day of the week is a weekend\n        print go back to bed its the weekend\n    else\n        if its a holiday\n            print go back to bed. its a holiday\n        else\n            print you need to get up\n```\n\nExample Run 1:\n\n```\nWhat day of the week is it? Monday\nIs it a holiday? No\nYou need to get up!\n```\n\nExample Run 2:\n\n```\nWhat day of the week is it? Saturday\nIs it a holiday? No\nGo back to bed! It's the weekend.\n```\n\nExample Run 3:\n\n```\nWhat day of the week is it? Monday\nIs it a holiday? Yes\nGo back to bed! It's a Holiday.\n```\n"
    },
    {
      "metadata": {
        "trusted": true
      },
      "cell_type": "code",
      "source": "## TODO: Write the solution here\nday=input(\"Enter the day of the week [all lowercase] : \")\nholiday=input(\"Is it a holiday [Y/N]? : \")\nif day==\"saturday\":\n    print(\"Go back to bed, it's the weekend!\")\nelif day==\"sunday\":\n    print(\"Go back to bed, it's the weekend!\")\nelse:\n    if holiday==\"Y\":\n        print(\"Go back to bed, it's a holiday!\")\n    else:\n        print(\"You need to get up.\")",
      "execution_count": 11,
      "outputs": [
        {
          "output_type": "stream",
          "name": "stdout",
          "text": "Enter the day of the week [all lowercase] : monday\nIs it a holiday [Y/N]? : Y\nGo back to bed, it's a holiday!\n"
        }
      ]
    },
    {
      "metadata": {},
      "cell_type": "markdown",
      "source": "## Step 2: Refactor\n\nNext we need to refactor the part of this program which checks to see if the day of the week is a weekend. The function:\n\n- `IsWeekend()` has one input a `day_of_week` and returns `True` when it's a `Saturday` or `Sunday`, `False` for all other days.\n"
    },
    {
      "metadata": {
        "trusted": true
      },
      "cell_type": "code",
      "source": "## Step 2: Refactor into function IsWeekend(day_of_week)\ndef IsWeekend(day):\n    if day==\"saturday\":\n        return(True)\n    elif day==\"sunday\":\n        return(True)\n    else:\n        return(False)",
      "execution_count": 26,
      "outputs": []
    },
    {
      "metadata": {},
      "cell_type": "markdown",
      "source": "## Step 3: Test \n\nTime to test. Write 7 tests, once for each day of the week.\n```\nWHEN day_of_week='Monday' We EXPECT IsWeekend(day_of_week) to return False\nWHEN day_of_week='Tuesday' We EXPECT IsWeekend(day_of_week) to return False\nWHEN day_of_week='Wednesday' We EXPECT IsWeekend(day_of_week) to return False\nWHEN day_of_week='Thursday' We EXPECT IsWeekend(day_of_week) to return False\nWHEN day_of_week='Friday' We EXPECT IsWeekend(day_of_week) to return False\nWHEN day_of_week='Saturday' We EXPECT IsWeekend(day_of_week) to return True\nWHEN day_of_week='Sunday' We EXPECT IsWeekend(day_of_week) to return True\n```\n"
    },
    {
      "metadata": {
        "trusted": false
      },
      "cell_type": "code",
      "source": "# Step 3: Write tests. Similar to how we did it in the lab.\n(\"WHEN day_of_week='Monday' We EXPECT IsWeekend(day_of_week) to return False\")\n(\"WHEN day_of_week='Tuesday' We EXPECT IsWeekend(day_of_week) to return False\")\n(\"WHEN day_of_week='Wednesday' We EXPECT IsWeekend(day_of_week) to return False\")\n(\"WHEN day_of_week='Thursday' We EXPECT IsWeekend(day_of_week) to return False\")\n(\"WHEN day_of_week='Friday' We EXPECT IsWeekend(day_of_week) to return False\")\n(\"WHEN day_of_week='Saturday' We EXPECT IsWeekend(day_of_week) to return True\")\n(\"WHEN day_of_week='Sunday' We EXPECT IsWeekend(day_of_week) to return True\")",
      "execution_count": 2,
      "outputs": []
    },
    {
      "metadata": {},
      "cell_type": "markdown",
      "source": "## Step 4: rewrite the program to use the function\n\nFinally re-write the original program, but call the function you made in step 2: \n"
    },
    {
      "metadata": {
        "trusted": true
      },
      "cell_type": "code",
      "source": "",
      "execution_count": null,
      "outputs": []
    },
    {
      "metadata": {
        "trusted": true
      },
      "cell_type": "code",
      "source": "day=input(\"Enter the day of week [all lowercase]: \")\nIsWeekend(day)\nif IsWeekend(day)==True:\n    print(\"Go back to bed, it's the weekend!\")\nelse:\n    print(\"You need to get up.\")",
      "execution_count": 36,
      "outputs": [
        {
          "output_type": "stream",
          "name": "stdout",
          "text": "Enter the day of week [all lowercase]: saturday\nGo back to bed, it's the weekend!\n"
        }
      ]
    },
    {
      "metadata": {},
      "cell_type": "markdown",
      "source": "## Step 5: Questions\n\n1. Provide 3 advantages for programming a user function in your code like `IsWeekend`?\n\nAnswer: more concise, less coding needed, accurate\n\n\n2. Why did we need to write 7 tests?\n\nAnswer: No, only 3 (Saturday, Sunday, Monday)\n\n\n3. Which code is easier to understand? Step 1 or step 4? Why? or Why not?\n\nAnswer: Step 1 because everything is infront of you while in step 4 you have to bounce between difference cells as the code is run through the function. \n\n\n4. What happens when you input `'sat'` for `'Saturday'` Does it work? How can the program be improved? Does improving it affect the readability of step 4? (HINT: Abstractions!!!)\n\nAnswer: It doesn't work because the function is programmed to only understands \"Saturday\" not \"Sat\". It can be improved by being programmed to understand all versions of the word \"Saturday.\" Yes it can help because then you don't have to worry about inputting the day of the week in a certain way. "
    },
    {
      "metadata": {},
      "cell_type": "markdown",
      "source": "## Step 6: Reflection\n\nReflect upon your experience completing this assignment. This should be a personal narrative, in your own voice, and cite specifics relevant to the activity as to help the grader understand how you arrived at the code you submitted. Things to consider touching upon: Elaborate on the process itself. Did your original problem analysis work as designed?  How many iterations did you go through before you arrived at the solution? Where did you struggle along the way and how did you overcome it? What did you learn from completing the assignment? What do you need to work on to get better? What was most valuable and least valuable about this exercise? Do you have any suggestions for improvements?\n\nTo make a good reflection, you should journal your thoughts, questions and comments while you complete the exercise.\n\nKeep your response to between 100 and 250 words.\n\n`--== Write Your Reflection Below Here ==--`\n\nI understood this practice. It came easy to me and I understand how this code works and runs. I feel that I've gotten a much better understanding of this unit and I feel confident doing this without any help. "
    }
  ],
  "metadata": {
    "anaconda-cloud": {},
    "kernelspec": {
      "name": "python3",
      "display_name": "Python 3",
      "language": "python"
    },
    "language_info": {
      "mimetype": "text/x-python",
      "nbconvert_exporter": "python",
      "name": "python",
      "pygments_lexer": "ipython3",
      "version": "3.5.4",
      "file_extension": ".py",
      "codemirror_mode": {
        "version": 3,
        "name": "ipython"
      }
    },
    "toc": {
      "base_numbering": 1,
      "nav_menu": {},
      "number_sections": false,
      "sideBar": false,
      "skip_h1_title": false,
      "title_cell": "Table of Contents",
      "title_sidebar": "Contents",
      "toc_cell": false,
      "toc_position": {},
      "toc_section_display": false,
      "toc_window_display": false
    }
  },
  "nbformat": 4,
  "nbformat_minor": 1
}