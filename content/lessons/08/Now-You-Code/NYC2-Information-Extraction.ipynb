{
  "cells": [
    {
      "metadata": {},
      "cell_type": "markdown",
      "source": "# Now You Code 2: Information Extraction\n\nHow do we make computers seem intelligent? One approach is to use *term extraction*. Term extration is a type of information extration where we attempt to find relevant terms in text. The relevant terms come from a *corpus*, or set of plausible terms we want to extract.\n\nFor example, suppose we have the text:\n\n`One day I would like to visit Syracuse`\n\nWe as smart humans can be fairly confident that `Syracuse` is a place, more specifically a `city`. \n\nA rudimentary method to make the computer interpret `Syracuse` as a place is to provide a corpus of cities and have the computer look up `Syracuse` in that corpus. \n\nIn this code exercise we will do just that. Let's first write a function to read cities from the file `NYC2-cities.txt` into a corpus of cities, which will be represented in Python as a list.\n\nThen write a main program loop to input some text, split the text into a list of words and if any of the words match a city in the corpus list we will output the word is a city.\n\nThe program should handle upper / lower case matching. A good approach is to title case the input. \n\nIMPORTANT: Please note that our program will ONLY work for one word cities, like `Syracuse` and will not work for multiple-word cities like `San Diego`. Don't worry about that now. \n\nSAMPLE RUN\n\n```\nEnter some text (or ENTER to quit): one day I would like to visit syracuse and rochester\nSyracuse is a city\nRochester is a city\nEnter some text (or ENTER to quit): austin is in texas\nAustin is a city\nEnter some text (or ENTER to quit): \nQuitting...\n```\n\nOnce again we will solve this problem using the problem simplification approach. First we will write the `load_city_corpus` function to build our city list. Second we will write the  `is_a_city` function which given a word and a city list will return `True` when the word is a city. Finally we conclude with the main program which finds cities in our text, as demonstrated in our sample run."
    },
    {
      "metadata": {
        "collapsed": true
      },
      "cell_type": "markdown",
      "source": "## Step 1: Problem Analysis for `load_city_corpus`\n\nInputs: None (reads from a file)\n\nOutputs: a Python list of cities\n\nAlgorithm (Steps in Program):\n\n"
    },
    {
      "metadata": {
        "trusted": true
      },
      "cell_type": "code",
      "source": "## Step 2: write the defintion for the load_city_corpus function\ndef load_city_corpus():\n    corpus= []\n    with open (\"NYC2-cities.txt\") as f:\n        for line in f:\n            corpus.append(line.strip())\n    return corpus",
      "execution_count": 8,
      "outputs": []
    },
    {
      "metadata": {},
      "cell_type": "markdown",
      "source": "## Step 3: Problem Analysis for `is_a_city`\n\nInputs: a string word and a Python list of cities\n\nOutputs: True or False when word is in the list of cities.\n\nAlgorithm (Steps in Program):\n\n"
    },
    {
      "metadata": {
        "trusted": true
      },
      "cell_type": "code",
      "source": "## Step 4: write the definition for the is_a_city function\ndef is_a_city(text,location):\n    for x in location:\n        if x==x in text:\n            return x\n    return False",
      "execution_count": 36,
      "outputs": []
    },
    {
      "metadata": {},
      "cell_type": "markdown",
      "source": "## Step 5: Problem Analysis for entire program\n\nInputs:\n\nOutputs:\n\nAlgorithm (Steps in Program): (make sure to use the two functions we created)\n\n"
    },
    {
      "metadata": {
        "trusted": true
      },
      "cell_type": "code",
      "source": "## Step 6: Write complete program, making sure to use your two functions.\n",
      "execution_count": 21,
      "outputs": []
    },
    {
      "metadata": {
        "trusted": true
      },
      "cell_type": "code",
      "source": "filename= \"NYC2-cities.txt\"\nwhile True:\n    text= input(\"Enter some text or type 'quit' to quit: \").title()\n    if text=='Quit':\n        break\n    text= text.split(' ')\n    location= load_city_corpus()\n    city= is_a_city(text,location)\n    if city==False:\n        print(\"There is no city in your sentence.\")\n    else:\n        print(city, \"is a city\")",
      "execution_count": 53,
      "outputs": [
        {
          "output_type": "stream",
          "name": "stdout",
          "text": "Enter some text or type 'quit' to quit: I want to visit Syracuse\nSyracuse is a city\nEnter some text or type 'quit' to quit: I think rochester is a beautiful city\nRochester is a city\nEnter some text or type 'quit' to quit: my friends and i are visiting austin next month\nAustin is a city\nEnter some text or type 'quit' to quit: lalalalala\nThere is no city in your sentence.\nEnter some text or type 'quit' to quit: I have a competition in Syracuse tomorrow!\nSyracuse is a city\nEnter some text or type 'quit' to quit: quit\n"
        }
      ]
    },
    {
      "metadata": {
        "collapsed": true
      },
      "cell_type": "markdown",
      "source": "## Step 7: Questions\n\n1. Explain your approach to solving this problem for cities with 2 words like `New York` or `Los Angeles`?\n\nAnswer: Maybe if the is_a_city function recognizes two words from the list (\"New\" and \"York\"), it can return both those words instead of just one. \n\n\n2. How would you solve the problem where you enter a city name which is not in the corpus?\n\nAnswer: Write a conditional that if the is_a_city function comes back \"False,\" print that there was no city in the sentence. \n"
    },
    {
      "metadata": {},
      "cell_type": "markdown",
      "source": "## Step 8: Reflection\n\nReflect upon your experience completing this assignment. This should be a personal narrative, in your own voice, and cite specifics relevant to the activity as to help the grader understand how you arrived at the code you submitted. Things to consider touching upon: Elaborate on the process itself. Did your original problem analysis work as designed?  How many iterations did you go through before you arrived at the solution? Where did you struggle along the way and how did you overcome it? What did you learn from completing the assignment? What do you need to work on to get better? What was most valuable and least valuable about this exercise? Do you have any suggestions for improvements?\n\nTo make a good reflection, you should journal your thoughts, questions and comments while you complete the exercise.\n\nKeep your response to between 100 and 250 words.\n\n`--== Write Your Reflection Below Here ==--`\n\nI was able to code the functions by using a guided video, but I was able to code step 5 by myself which I was proud of! At first, I was confused on the is_a_city function since I had to input two values, but then I realized you just had put in the two inputs with a comma in between. With some trial and error, I was able to figure out step 5 in a few minutes, and add a conditional as well if a sentence didn't have a city that was in the corpus. Towards the end, I was confused on how to make it so that you can enter lowercase cities too and still get a correct output, but after doing a little bit of research, I realized that the .title() function can make it so that the first letter of every word is capitalized, and that was very helpful. Overall, I understand why and how this code works and feel confident! "
    }
  ],
  "metadata": {
    "anaconda-cloud": {},
    "kernelspec": {
      "name": "python3",
      "display_name": "Python 3",
      "language": "python"
    },
    "language_info": {
      "mimetype": "text/x-python",
      "nbconvert_exporter": "python",
      "name": "python",
      "pygments_lexer": "ipython3",
      "version": "3.5.4",
      "file_extension": ".py",
      "codemirror_mode": {
        "version": 3,
        "name": "ipython"
      }
    },
    "toc": {
      "base_numbering": 1,
      "nav_menu": {},
      "number_sections": false,
      "sideBar": false,
      "skip_h1_title": false,
      "title_cell": "Table of Contents",
      "title_sidebar": "Contents",
      "toc_cell": false,
      "toc_position": {},
      "toc_section_display": false,
      "toc_window_display": false
    }
  },
  "nbformat": 4,
  "nbformat_minor": 1
}