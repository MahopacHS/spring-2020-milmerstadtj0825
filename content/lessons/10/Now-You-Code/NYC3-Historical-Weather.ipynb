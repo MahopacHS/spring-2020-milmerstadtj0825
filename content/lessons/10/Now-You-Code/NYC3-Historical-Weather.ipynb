{
  "cells": [
    {
      "metadata": {},
      "cell_type": "markdown",
      "source": "# Now You Code 3: Syracuse Historical Weather\n\nWrite a program to prompt a user to input a date and time string, and then it should **report the temperature and weather conditions on that day and time for Syracuse, NY.**\n\nTo accomplish this, use the Dark Sky Time Machine API, here: https://darksky.net/dev/docs/time-machine \n\nYou're going to have to read about the API and understand how it works before you can write this program, which is the point of the exercise.\n\nThe date and time that the user inputs must be in the following format: `YYYY-MM-DDThh:mm:ss` \n\nFor example January 7, 2016 at 4:30pm would be: `2016-01-07T16:30:00`\n\nBe sure to use the GPS coordinates for Syracuse, NY which are (lat=43.048122,lng=-76.147424)\n\nExample Run (Based on the exchange rates from 2017-03-06:\n\n```\nSyracuse, NY Historical Weather\nEnter a date and time in the following format: YYYY-MM-DDThh:mm:ss => 2016-07-23T14:30:00\nOn 2016-07-23T14:30:00 Syracuse, NY was Partly Cloudy with a temperature of  85\n```\n"
    },
    {
      "metadata": {
        "collapsed": true
      },
      "cell_type": "markdown",
      "source": "## Step 1: Problem Analysis\n\nInputs:  \n\nOutputs: \n\nAlgorithm (Steps in Program):\n\n```\ntodo write algorithm here\n```\n"
    },
    {
      "metadata": {
        "trusted": true
      },
      "cell_type": "code",
      "source": "# step 2: write code here\nimport requests\ntry:\n    print('Syracuse, NY Historical Weather')\n    search= input(\"Enter date and time in the format: YYYY-MM-DDThh:mm:ss ==> \")\n    key= 'fb496d7d4c73a047ec9a6237d0031680' #the website doesn't allow new accounts so I had to use yours Faitakes\n    url= 'https://api.darksky.net/forecast/%s/43.048122,-76.147424,%s' %(key,search)\n    response = requests.get(url)\n    conditions= response.json()\n    currently=conditions['currently']\n    print(\"On %s , Syracuse, NY was %s with a temperature of %.0f degrees\" %(search,currently['summary'],currently['apparentTemperature']))\nexcept requests.exceptions.HTTPError as e:\n    print(\"ERROR: Response from \", url, 'was not ok.')\n    print(\"DETAILS:\", e)\nexcept:\n    print(\"There was an error with your dark sky API. Make sure you entered your search in the correct format.\", url)",
      "execution_count": null,
      "outputs": []
    },
    {
      "metadata": {},
      "cell_type": "markdown",
      "source": "## Step 3: Questions\n\n1. What happens when you enter `1/1/2017` as date input? Which error to you get? Fix the program in step 2 so that it handles this error.\n\nAnswer: An error pops up since it isn't in the correct format.\n\n\n2. Put your laptop in Airplane mode (disable the wifi) and then run the program. What happens? Fix the program in step 4 so that it handles this error.\n\nAnswer: Error since it can't connect to the URL. \n\n"
    },
    {
      "metadata": {},
      "cell_type": "markdown",
      "source": "## Step 4: Reflection\n\nReflect upon your experience completing this assignment. This should be a personal narrative, in your own voice, and cite specifics relevant to the activity as to help the grader understand how you arrived at the code you submitted. Things to consider touching upon: Elaborate on the process itself. Did your original problem analysis work as designed?  How many iterations did you go through before you arrived at the solution? Where did you struggle along the way and how did you overcome it? What did you learn from completing the assignment? What do you need to work on to get better? What was most valuable and least valuable about this exercise? Do you have any suggestions for improvements?\n\nTo make a good reflection, you should journal your thoughts, questions and comments while you complete the exercise.\n\nKeep your response to between 100 and 250 words.\n\n`--== Write Your Reflection Below Here ==--`\n\nThis assignment was difficult because I wasn't sure what URL to use and what key to use. This unit is also confusing for me when it comes to figuring out how to code the different variables. After watching Faitakes' helpful video though, I was able to figure it out. Once I finished my code, I further understood it by seeing what is in the conditions dictionary and what's in conditions['currently']. Doing this helped me further understand what's happening behind the scenes. The hardest part of this I feel is knowing how to code the different types of error handling. "
    }
  ],
  "metadata": {
    "anaconda-cloud": {},
    "kernelspec": {
      "name": "python3",
      "display_name": "Python 3",
      "language": "python"
    },
    "toc": {
      "base_numbering": 1,
      "nav_menu": {},
      "number_sections": false,
      "sideBar": false,
      "skip_h1_title": false,
      "title_cell": "Table of Contents",
      "title_sidebar": "Contents",
      "toc_cell": false,
      "toc_position": {},
      "toc_section_display": false,
      "toc_window_display": false
    }
  },
  "nbformat": 4,
  "nbformat_minor": 1
}