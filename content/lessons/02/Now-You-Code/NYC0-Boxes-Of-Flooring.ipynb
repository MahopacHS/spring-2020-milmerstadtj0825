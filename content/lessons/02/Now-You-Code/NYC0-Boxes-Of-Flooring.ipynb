{
  "cells": [
    {
      "metadata": {},
      "cell_type": "markdown",
      "source": "# Now You Code In-Class: Boxes Of Flooring\n\nHigh's Home Improvement has hired you to write a mobile app which will estimate the number of boxes of laminate flooring required to cover a room. \n\nThings to note:\n\n- One box of flooring covers 24.5 square feet. \n- You should account for 10% waste in any project. This means you should by 10% more flooring than you need.\n\nWrite a python program which given the length and width measurement of a room will correctly calculate:\n\n- The area of the room in square feet\n- The project area when accounting for 10% waste\n- The number of boxes of flooring required, rounded up to the nearest whole box. \n\nExample: \n\n```\n*** Boxes of Flooring ***\nLength of room (ft): 3\nWidth of room (ft): 6\n\nCalculations....\nRoom Area: ==> 18.0 square ft\nProject Area: 18.0 square ft + 1.8 (10% waste) ==> 19.8 square ft\nNumber of boxes at 24.5 square ft: ==> 1\n```\n\nNOTE: Use string formatters or f-strings to display the output to 1 decimal place.\n\nHINT: Use the `math.ceil()` function to round up your number of gallons to the nearest whole number. You cannot sell fractional cans of paint!\n"
    },
    {
      "metadata": {
        "collapsed": true
      },
      "cell_type": "markdown",
      "source": "## Step 1: Problem Analysis\n\nInputs:\n\nOutputs:\n\nAlgorithm (Steps in Program):\n\n"
    },
    {
      "metadata": {
        "trusted": true
      },
      "cell_type": "code",
      "source": "import math\n# Step 2: Write code here\nlength=float(input(\"Enter the length (ft) : \"))\nwidth=float(input(\"Enter the width (ft) : \"))\narea=length*width\nproject_area= area+(area*.10)\nboxes= int(area/24.5)\nprint(\"The area is %.1f square feet\" %(area))\nprint(\"The project area is %.1f square feet\" %(project_area))\nprint(\"The number of boxes required is %d\" %(boxes))",
      "execution_count": 7,
      "outputs": [
        {
          "output_type": "stream",
          "name": "stdout",
          "text": "Enter the length (ft) : 10\nEnter the width (ft) : 5\nThe area is 50.0 square feet\nThe project area is 55.0 square feet\nThe number of boxes required is 2\n"
        }
      ]
    },
    {
      "metadata": {
        "trusted": true
      },
      "cell_type": "code",
      "source": "",
      "execution_count": null,
      "outputs": []
    },
    {
      "metadata": {
        "trusted": true
      },
      "cell_type": "code",
      "source": "",
      "execution_count": null,
      "outputs": []
    }
  ],
  "metadata": {
    "anaconda-cloud": {},
    "kernelspec": {
      "name": "python3",
      "display_name": "Python 3",
      "language": "python"
    },
    "language_info": {
      "mimetype": "text/x-python",
      "nbconvert_exporter": "python",
      "name": "python",
      "pygments_lexer": "ipython3",
      "version": "3.5.4",
      "file_extension": ".py",
      "codemirror_mode": {
        "version": 3,
        "name": "ipython"
      }
    },
    "toc": {
      "base_numbering": 1,
      "nav_menu": {},
      "number_sections": false,
      "sideBar": false,
      "skip_h1_title": false,
      "title_cell": "Table of Contents",
      "title_sidebar": "Contents",
      "toc_cell": false,
      "toc_position": {},
      "toc_section_display": false,
      "toc_window_display": false
    }
  },
  "nbformat": 4,
  "nbformat_minor": 1
}