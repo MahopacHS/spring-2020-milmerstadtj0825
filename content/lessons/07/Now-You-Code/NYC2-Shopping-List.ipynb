{
  "cells": [
    {
      "metadata": {},
      "cell_type": "markdown",
      "source": "# Now You Code 2: Shopping List\n\nWrite a program to input a list of grocery items for your shopping list and then writes them to a file a line at a time.  The program should keep asking you to enter grocery items until you type `'done'`.\n\nAfter you complete the list, the program should then load the file and read the list back to you by printing each item out.\n\nSample Run:\n\n```\nLet's make a shopping list. Type 'done' when you're finished:\nEnter Item: milk\nEnter Item: cheese\nEnter Item: eggs\nEnter Item: beer\nEnter Item: apples\nEnter Item: done\nYour shopping list:\nmilk\ncheese\neggs\nbeer\napples\n```\n"
    },
    {
      "metadata": {
        "collapsed": true
      },
      "cell_type": "markdown",
      "source": "## Step 1: Problem Analysis\n\nInputs:\n\nOutputs:\n\nAlgorithm (Steps in Program):\n\n"
    },
    {
      "metadata": {
        "trusted": true
      },
      "cell_type": "code",
      "source": "filename = \"NYC2-shopping-list.txt\"\nprint(filename)\n## Step 2: write code here\nprint(\"Let's make a shopping list! Type 'done' when you're finished\")\nwith open(filename, 'w', encoding=\"utf-8\") as in_file:\n    while True:\n        item=input(\"Enter item: \")\n        if item=='done':\n            print(\"Your shopping list is: \")\n            break\n        in_file.write(item + \"\\n\")\n\nwith open(filename, 'r') as out_file:\n    for lines in out_file:\n        print(lines)",
      "execution_count": 59,
      "outputs": [
        {
          "output_type": "stream",
          "text": "NYC2-shopping-list.txt\nLet's make a shopping list! Type 'done' when you're finished\nEnter item: bread\nEnter item: bacon\nEnter item: eggs\nEnter item: done\nYour shopping list is: \nbread\n\nbacon\n\neggs\n\n",
          "name": "stdout"
        }
      ]
    },
    {
      "metadata": {
        "collapsed": true
      },
      "cell_type": "markdown",
      "source": "## Step 3: Refactoring\n\nRefactor the part of your program which reads the shopping list from the file into a separate user-defined function called `readShoppingList` \nre-write your program to use this function.\n\n## ReadShoppingList function\n\nInputs:\n\nOutputs:\n\nAlgorithm (Steps in Program):\n\n\n\n"
    },
    {
      "metadata": {
        "trusted": true
      },
      "cell_type": "code",
      "source": "filename = \"NYC2-shopping-list.txt\"\nprint(filename)\nprint(\"Let's make a shopping list! Type 'done' when you're finished\")\nwith open(filename, 'w', encoding=\"utf-8\") as in_file:\n    while True:\n        item=input(\"Enter item: \")\n        if item=='done':\n            print(\"Your shopping list is: \")\n            break\n        in_file.write(item+\",\")\nreadShoppingList(filename)",
      "execution_count": 8,
      "outputs": [
        {
          "output_type": "stream",
          "text": "NYC2-shopping-list.txt\nLet's make a shopping list! Type 'done' when you're finished\nEnter item: bread\nEnter item: egg\nEnter item: cheese\nEnter item: done\nYour shopping list is: \n",
          "name": "stdout"
        },
        {
          "output_type": "execute_result",
          "execution_count": 8,
          "data": {
            "text/plain": "'bread,egg,cheese,'"
          },
          "metadata": {}
        }
      ]
    },
    {
      "metadata": {
        "trusted": true
      },
      "cell_type": "code",
      "source": "## Step 4: Write program again with refactored code.\ndef readShoppingList(filename):\n    with open(filename, 'r') as out_file:\n        for lines in out_file:\n            shoppingList=(lines)\n            return shoppingList\n\n\n# TODO Main code here\n\n",
      "execution_count": 6,
      "outputs": []
    },
    {
      "metadata": {},
      "cell_type": "raw",
      "source": ""
    },
    {
      "metadata": {},
      "cell_type": "markdown",
      "source": "## Step 5: Questions\n\n1. Is the refactored code in step 4 easier to read? Why or why not?\n\nAnswer: Yes because since the code is split into two, it's easier to read the process of the code works. \n\n2. Explain how this program could be refactored further (there's one thing that's obvious).\n\nAnswer: You can put numbers next to each item (ex: \"1: cheese\"...) or put a quantity. \n\n\n3. Describe how this program can be modified to support multiple shopping lists?\n\nAnswer: You can input something that would save the list you just made and creates another shopping list in a different file. "
    },
    {
      "metadata": {},
      "cell_type": "markdown",
      "source": "## Step 6: Reflection\n\nReflect upon your experience completing this assignment. This should be a personal narrative, in your own voice, and cite specifics relevant to the activity as to help the grader understand how you arrived at the code you submitted. Things to consider touching upon: Elaborate on the process itself. Did your original problem analysis work as designed?  How many iterations did you go through before you arrived at the solution? Where did you struggle along the way and how did you overcome it? What did you learn from completing the assignment? What do you need to work on to get better? What was most valuable and least valuable about this exercise? Do you have any suggestions for improvements?\n\nTo make a good reflection, you should journal your thoughts, questions and comments while you complete the exercise.\n\nKeep your response to between 100 and 250 words.\n\n`--== Write Your Reflection Below Here ==--`\n\nI had some trouble on step 4 where we used the function because I had trouble outputting the list in a format there there are multiple lines like I was able to do in step 1. Instead, I had to do it in comma form (cheese,eggs,bacon,...etc.). Though this gives the same shopping list idea, it isn't in the format I originally hoped. I understood this lesson, but it took me a while to do step 4, and I had to look back at previous lessons to remember how to write the code for opening files. There was also a lot of trial and error with printing the final shopping list.  "
    }
  ],
  "metadata": {
    "anaconda-cloud": {},
    "kernelspec": {
      "name": "python3",
      "display_name": "Python 3",
      "language": "python"
    },
    "language_info": {
      "mimetype": "text/x-python",
      "nbconvert_exporter": "python",
      "name": "python",
      "pygments_lexer": "ipython3",
      "version": "3.5.4",
      "file_extension": ".py",
      "codemirror_mode": {
        "version": 3,
        "name": "ipython"
      }
    },
    "toc": {
      "base_numbering": 1,
      "nav_menu": {},
      "number_sections": false,
      "sideBar": false,
      "skip_h1_title": false,
      "title_cell": "Table of Contents",
      "title_sidebar": "Contents",
      "toc_cell": false,
      "toc_position": {},
      "toc_section_display": false,
      "toc_window_display": false
    }
  },
  "nbformat": 4,
  "nbformat_minor": 1
}