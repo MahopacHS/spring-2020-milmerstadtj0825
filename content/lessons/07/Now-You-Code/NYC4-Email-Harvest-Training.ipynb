{
  "cells": [
    {
      "metadata": {},
      "cell_type": "markdown",
      "source": "# Now You Code 4: Email Harvest Training\n\nLet's teach you how to extract emails from text. This has a variety of applications. The most common being buiding a list of emails for spamming... er, I meant \"mass marketing.\" \n\nThe best way to find the emails in the mailbox file is to search for lines in the file that begin with \"From: (similar to what we did in the lab). When you find an email write just the email address (not \"From:\" and the address) to \"NYC4-emails.txt\", and don't worry about duplicates.\n\nThe program should print the number of emails it wrote to the file.\n\nExample Run:\n\n```\nWrote 27 emails to NYC4-emails.txt\n```"
    },
    {
      "metadata": {},
      "cell_type": "markdown",
      "source": "## Step 1: Problem Analysis\n\nInput: (No user input, but we do read from the file `NYC4-mbox-short.txt`\n\nOutput (The number of emails collected from the file, and a new file `NYC4-emails.txt` with one email per line.\n\nAlgorithm:\n\n```\n(write here)\n```\n"
    },
    {
      "metadata": {
        "trusted": true
      },
      "cell_type": "code",
      "source": "## Step 2: Write the code\nfilename=\"NYC4-emails.txt\"\nemails=0\nwith open(filename, 'w', encoding=\"utf-8\") as in_file:\n    filename= \"NYC4-mbox-short.txt\"\n    with open(filename, 'r') as handle:\n        for lines in handle.readlines():\n            if lines.count(\"From:\")>0:\n                lines.split(\" \")\n                emails=emails+1\n                in_file.write(lines.split(\" \")[1])\n        print(\"Wrote %d emails to NYC4-emails.txt\" %(emails))",
      "execution_count": 15,
      "outputs": [
        {
          "output_type": "stream",
          "text": "Wrote 27 emails to NYC4-emails.txt\n",
          "name": "stdout"
        }
      ]
    },
    {
      "metadata": {
        "trusted": true
      },
      "cell_type": "code",
      "source": "## Step 3: Write another program to read the emails from NYC4-emails.txt and print them to the console\nfilename=\"NYC4-emails.txt\"\nwith open(filename, 'r') as out_file:\n    for lines in out_file:\n        print(lines)",
      "execution_count": 16,
      "outputs": [
        {
          "output_type": "stream",
          "text": "stephen.marquard@uct.ac.za\n\nlouis@media.berkeley.edu\n\nzqian@umich.edu\n\nrjlowe@iupui.edu\n\nzqian@umich.edu\n\nrjlowe@iupui.edu\n\ncwen@iupui.edu\n\ncwen@iupui.edu\n\ngsilver@umich.edu\n\ngsilver@umich.edu\n\nzqian@umich.edu\n\ngsilver@umich.edu\n\nwagnermr@iupui.edu\n\nzqian@umich.edu\n\nantranig@caret.cam.ac.uk\n\ngopal.ramasammycook@gmail.com\n\ndavid.horwitz@uct.ac.za\n\ndavid.horwitz@uct.ac.za\n\ndavid.horwitz@uct.ac.za\n\ndavid.horwitz@uct.ac.za\n\nstephen.marquard@uct.ac.za\n\nlouis@media.berkeley.edu\n\nlouis@media.berkeley.edu\n\nray@media.berkeley.edu\n\ncwen@iupui.edu\n\ncwen@iupui.edu\n\ncwen@iupui.edu\n\n",
          "name": "stdout"
        }
      ]
    },
    {
      "metadata": {},
      "cell_type": "markdown",
      "source": "## Step 4: Questions\n\n1. Does this code actually \"detect\" emails? How does it find emails in the text?\n\nAnswer: It doesn't actually detect emails, it just knows that the email comes after the \"From:\" and that's how it finds it. It finds the words \"From:\" and splits it based on the space, and prints the word that comes after the space, which is the email.\n\n\n2. Explain how this program can be improved to prompt for an email file at runtime?\n\nAnswer: It can figure out which emails are valid or not. For example, it would be able to sense that richard@@aol.com is not an email because of the two \"@\" signs. \n\n\n3. Devise an approach to remove duplicate emails from the output file. You don't have to write as code, just explain it.\n\nAnswer: You can do an if statement, saying if words in lines.split(\" \")[1]= words in lines.split(\" \")[1], to not print the repitition. "
    },
    {
      "metadata": {},
      "cell_type": "markdown",
      "source": "## Step 5: Reflection\n\nReflect upon your experience completing this assignment. This should be a personal narrative, in your own voice, and cite specifics relevant to the activity as to help the grader understand how you arrived at the code you submitted. Things to consider touching upon: Elaborate on the process itself. Did your original problem analysis work as designed?  How many iterations did you go through before you arrived at the solution? Where did you struggle along the way and how did you overcome it? What did you learn from completing the assignment? What do you need to work on to get better? What was most valuable and least valuable about this exercise? Do you have any suggestions for improvements?\n\nTo make a good reflection, you should journal your thoughts, questions and comments while you complete the exercise.\n\nKeep your response to between 100 and 250 words.\n\n`--== Write Your Reflection Below Here ==--`\n\nI was able to understand how to do this practice quickly and without help. I used some previous practices to remember how to structure certain codes and I understand how and why this code works. After some trial and error, I realized I had to identify NYC4-emails.txt. first and open the ability to write in it, and then under that, identify the NYC4-mbox-short.txt file. "
    }
  ],
  "metadata": {
    "anaconda-cloud": {},
    "kernelspec": {
      "name": "python3",
      "display_name": "Python 3",
      "language": "python"
    },
    "language_info": {
      "mimetype": "text/x-python",
      "nbconvert_exporter": "python",
      "name": "python",
      "pygments_lexer": "ipython3",
      "version": "3.5.4",
      "file_extension": ".py",
      "codemirror_mode": {
        "version": 3,
        "name": "ipython"
      }
    },
    "toc": {
      "base_numbering": 1,
      "nav_menu": {},
      "number_sections": false,
      "sideBar": false,
      "skip_h1_title": false,
      "title_cell": "Table of Contents",
      "title_sidebar": "Contents",
      "toc_cell": false,
      "toc_position": {},
      "toc_section_display": false,
      "toc_window_display": false
    }
  },
  "nbformat": 4,
  "nbformat_minor": 1
}