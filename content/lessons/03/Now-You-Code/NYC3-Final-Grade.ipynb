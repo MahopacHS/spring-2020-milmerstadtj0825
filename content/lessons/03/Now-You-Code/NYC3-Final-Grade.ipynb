{
  "cells": [
    {
      "metadata": {},
      "cell_type": "markdown",
      "source": "# Now You Code 3: Final Grade in IST256\n\n# Part 1\n\nOur Course Syllabus has a grading scale here:\n\nhttp://ist256.syr.edu/syllabus/#grading-scale\n\nWrite a Python program to input a number of points earned out of 600 and then\noutputs the registrar letter grade. \n\nFor example:\n\n    IST256 Grade Calculator\n    Enter total points out of 600:  550\n    Grade: A- \n"
    },
    {
      "metadata": {
        "collapsed": true
      },
      "cell_type": "markdown",
      "source": "## Step 1: Problem Analysis\n\nInputs:\n\nOutputs:\n\nAlgorithm (Steps in Program):\n\n\n"
    },
    {
      "metadata": {
        "trusted": true
      },
      "cell_type": "code",
      "source": "#Step 2: write code here\np=int(input(\"Enter total points out of 600 : \"))\nif 570<=p<=600:\n    print(\"A+\")\nelif 540<=p<=569:\n    print(\"A-\")\nelif 510<=p<=539:\n    print(\"B+\")\nelif 480<=p<=509:\n    print(\"B\")\nelif 450<=p<=479:\n    print(\"B-\")\nelif 420<=p<=449:\n    print(\"C+\")\nelif 390<=p<=419:\n    print(\"C\")\nelif 360<=p<=389:\n    print(\"C-\")\nelif 300<=p<=359:\n    print(\"D\")\nelif 0<=p<=299:\n    print(\"F\")",
      "execution_count": 34,
      "outputs": [
        {
          "output_type": "stream",
          "name": "stdout",
          "text": "Enter total points out of 600 : 460\nB-\n"
        }
      ]
    },
    {
      "metadata": {},
      "cell_type": "markdown",
      "source": "# Part 2\n\nNow that you have it working,  re-write your code to handle bad input. Specifically:\n\n\n- non integer values\n- integer values outside the 0 to 600 range.\n\n**Note:** Exception handling is not part of our algorithm. It's a programming concern, not a problem-solving concern!"
    },
    {
      "metadata": {
        "trusted": true
      },
      "cell_type": "code",
      "source": "## Step 2 (again): write code again but handle errors with try...except\ntry:\n    p=int(input(\"Enter total points out of 600 : \"))\n    if 0<=p<=600:\n        if 570<=p<=600:\n            print(\"A+\")\n        elif 540<=p<=569:\n            print(\"A-\")\n        elif 510<=p<=539:\n            print(\"B+\")\n        elif 480<=p<=509:\n            print(\"B\")\n        elif 450<=p<=479:\n            print(\"B-\")\n        elif 420<=p<=449:\n            print(\"C+\")\n        elif 390<=p<=419:\n            print(\"C\")\n        elif 360<=p<=389:\n            print(\"C-\")\n        elif 300<=p<=359:\n            print(\"D\")\n        elif 0<=p<=299:\n            print(\"F\")\n    else:\n        print(\"Number must be between or equal to 0 and 600\")\nexcept:\n    print(\"That's not a number\")",
      "execution_count": 32,
      "outputs": [
        {
          "output_type": "stream",
          "name": "stdout",
          "text": "Enter total points out of 600 : twenty\nThat's not a number\n"
        }
      ]
    },
    {
      "metadata": {},
      "cell_type": "markdown",
      "source": "## Step 3: Questions\n\n1. What specific Python Error are we handling (please provide the name of it)?\n\nAnswer:  Value Error\n\n2. How many times must you execute this program and check the output before you canbe reasonably assured your code is correct? Explain.\n\nAnswer:  33 times because you want to use a value above 600, a negative value, a word, the 2 #'s that are on the boundary of the cutoff (ex: 0 and 600, 480 and 509, etc.) and a value in the middle of each range. \n\n\n3. When testing this program do you think its more important to test numbers in the middle of the grade range or exactly on the boundary between one grade range and the next. Justify your response.\n\nAnswer:  In the middle because there's a probability that more grades that will fall in the middle than on the boundary. \n\n"
    },
    {
      "metadata": {},
      "cell_type": "markdown",
      "source": "## Step 4: Reflection\n\nReflect upon your experience completing this assignment. This should be a personal narrative, in your own voice, and cite specifics relevant to the activity as to help the grader understand how you arrived at the code you submitted. Things to consider touching upon: Elaborate on the process itself. Did your original problem analysis work as designed?  How many iterations did you go through before you arrived at the solution? Where did you struggle along the way and how did you overcome it? What did you learn from completing the assignment? What do you need to work on to get better? What was most valuable and least valuable about this exercise? Do you have any suggestions for improvements?\n\nTo make a good reflection, you should journal your thoughts, questions and comments while you complete the exercise.\n\nKeep your response to between 100 and 250 words.\n\n`--== Write Your Reflection Below Here ==--`\n\nI was able to code this without any help, but it took a lot of trial and error. Compared to all the other practices though, this one took a shorter amount of time, which probably means that I'm learning and getting better. Now that my code is correct, I understand why and how it works, as well as the layout of it. The difference between try...except and if...else confuses me, but this lesson helped me understand it a little bit more. "
    }
  ],
  "metadata": {
    "anaconda-cloud": {},
    "kernelspec": {
      "name": "python3",
      "display_name": "Python 3",
      "language": "python"
    },
    "toc": {
      "base_numbering": 1,
      "nav_menu": {},
      "number_sections": false,
      "sideBar": false,
      "skip_h1_title": false,
      "title_cell": "Table of Contents",
      "title_sidebar": "Contents",
      "toc_cell": false,
      "toc_position": {},
      "toc_section_display": false,
      "toc_window_display": false
    }
  },
  "nbformat": 4,
  "nbformat_minor": 1
}