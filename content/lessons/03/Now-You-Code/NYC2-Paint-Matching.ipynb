{
  "cells": [
    {
      "metadata": {},
      "cell_type": "markdown",
      "source": "# Now You Code 2: Paint Pricing\n\nHouse Depot, a big-box hardware retailer, has contracted you to create an app to calculate paint prices. \n\nThe price of paint is determined by the following factors:\n- Everyday quality paint is `$19.99` per gallon.\n- Select quality paint is `$24.99` per gallon.\n- Premium quality paint is `$32.99` per gallon.\n\nIn addition if the customer wants computerized color-matching that incurs an additional fee of `$4.99` per gallon. \n\nWrite a program to ask the user to select a paint quality: 'everyday', 'select' or 'premium', prompt for color matching, and then outputs the price per gallon of the paint.\n\nExample Run 1:\n\n```\nWhich paint quality do you require ['everyday', 'select', 'premium'] ?select\nDo you require color matching [y/n] ?y\nTotal price of select paint with color matching is $29.98\n```\n\nExample Run 2:\n\n```\nWhich paint quality do you require ['everyday', 'select', 'premium'] ?premium\nDo you require color matching [y/n] ?n\nTotal price of premium paint without color matching is $32.99\n```"
    },
    {
      "metadata": {
        "collapsed": true
      },
      "cell_type": "markdown",
      "source": "## Step 1: Problem Analysis\n\nInputs:\n\nOutputs:\n\nAlgorithm (Steps in Program):\n\n"
    },
    {
      "metadata": {
        "trusted": true
      },
      "cell_type": "code",
      "source": "# Step 2: Write code here\nchoices= ['everyday','select','premium']\nchoice=input(\"Select a choice of paint: everyday, select or premium : \" )\nmatching=input(\"Do you require color matching? [choose lowercase y/n] : \" )\nif choice in choices:\n    if choice=='everyday' and matching=='y' :\n        print(\"Total price of everyday paint with color matching is $24.98\")\n    elif choice=='everyday' and matching=='n':\n        print(\"Total price of everyday paint without color matching is $19.99\")\n    elif choice=='select' and matching=='y' :\n        print(\"Total price of select paint with color matching is $29.98\")\n    elif choice=='select' and matching=='n':\n        print(\"Total price of select paint without color matching is $24.99\")\n    elif choice=='premium' and matching=='y' :\n        print(\"Total price of premium paint with color matching is $37.98\")\n    elif choice=='premium' and matching=='n':\n        print(\"Total price of premium paint without color matching is $32.99\")\nelse:\n    print(\"That's not a paint quality\")",
      "execution_count": 32,
      "outputs": [
        {
          "output_type": "stream",
          "name": "stdout",
          "text": "Select a choice of paint: everyday, select or premium : everyday\nDo you require color matching? [choose lowercase y/n] : y\nTotal price of everyday paint with color matching is $24.98\n"
        }
      ]
    },
    {
      "metadata": {},
      "cell_type": "markdown",
      "source": "## Step 3: Questions\n\n1. When you enter something other than `'everyday', 'select',` or  `'premium'` what happens? Modify the program to print `that is not a paint quality` and then exit in those cases.\n\nAnswer:   it says ValueError, but i already had it say \"That's not a choice\" in the first place. \n\n\n2. What happens when you enter something other than `'y'` or `'n'` for color matching? Re-write the program to print `you must enter y or n` whenever you enter something other than those two values.\n\nAnswer:  the program freezes. \n\n\n3. Why can't we use Python's `try...except` in this example?\n\nAnswer:   because we're using choices\n\n\n4. How many times (at minimum) must we execute this program and check the results before we can be reasonably assured it is correct?\n\nAnswer:  7\n\n\n"
    },
    {
      "metadata": {},
      "cell_type": "markdown",
      "source": "## Step 4: Reflection\n\nReflect upon your experience completing this assignment. This should be a personal narrative, in your own voice, and cite specifics relevant to the activity as to help the grader understand how you arrived at the code you submitted. Things to consider touching upon: Elaborate on the process itself. Did your original problem analysis work as designed?  How many iterations did you go through before you arrived at the solution? Where did you struggle along the way and how did you overcome it? What did you learn from completing the assignment? What do you need to work on to get better? What was most valuable and least valuable about this exercise? Do you have any suggestions for improvements?\n\nTo make a good reflection, you should journal your thoughts, questions and comments while you complete the exercise.\n\nKeep your response to between 100 and 250 words.\n\n`--== Write Your Reflection Below Here ==--`\n\nI didn't need any teacher help on this activity, but it did take a lot of trial and error. Now that I have the code correct, I understand why it's correct and how it works. I'm wondering if there are other ways to code this that will make it more concise. "
    },
    {
      "metadata": {
        "trusted": false
      },
      "cell_type": "code",
      "source": "",
      "execution_count": null,
      "outputs": []
    }
  ],
  "metadata": {
    "anaconda-cloud": {},
    "kernelspec": {
      "name": "python3",
      "display_name": "Python 3",
      "language": "python"
    },
    "language_info": {
      "mimetype": "text/x-python",
      "nbconvert_exporter": "python",
      "name": "python",
      "file_extension": ".py",
      "version": "3.5.4",
      "pygments_lexer": "ipython3",
      "codemirror_mode": {
        "version": 3,
        "name": "ipython"
      }
    },
    "toc": {
      "base_numbering": 1,
      "nav_menu": {},
      "number_sections": false,
      "sideBar": false,
      "skip_h1_title": false,
      "title_cell": "Table of Contents",
      "title_sidebar": "Contents",
      "toc_cell": false,
      "toc_position": {},
      "toc_section_display": false,
      "toc_window_display": false
    }
  },
  "nbformat": 4,
  "nbformat_minor": 1
}