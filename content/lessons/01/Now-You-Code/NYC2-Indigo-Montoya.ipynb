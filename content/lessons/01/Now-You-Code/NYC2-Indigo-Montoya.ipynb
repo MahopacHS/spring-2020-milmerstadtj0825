{
  "cells": [
    {
      "metadata": {},
      "cell_type": "markdown",
      "source": "# Now You Code 2: Indigo Montoya\n\n[The Princess Bride](https://www.rottentomatoes.com/m/princess_bride/) is an adventure film from the 80's, a true cult classic. One of the many notable scenes involves a character Indigo Montoya who explains his character's motivation for revenge through the catch-phase:\n\n\"Hello. My name is Indigo Montoya. You killed my father. Prepare to die!\"\n\nYou can watch the clip here: [https://www.youtube.com/watch?v=YY4cnMmo9qw](https://www.youtube.com/watch?v=YY4cnMmo9qw)\n\nWrite a program in Python which asks the user to enter **your name**, a **relative** and a **past-tense action**. For example if you enter \"Indigo Montoya\", \"Father\" and \"killed\", the program will then output:\n\n\"Hello. My name is Indigo Montoya. You killed my father. Prepare to die!\"\n\nOr you could input \"Mike Fudge\", \"Uncle\" and \"Tickled\" to get:\n\n\"Hello. My name is Mike Fudge. You Tickled my Uncle. Prepare to die!\"\n"
    },
    {
      "metadata": {
        "collapsed": true
      },
      "cell_type": "markdown",
      "source": "## Step 1: Problem Analysis\n\nInputs:\n\nOutputs:\n\nAlgorithm (Steps in Program):"
    },
    {
      "metadata": {
        "trusted": true
      },
      "cell_type": "code",
      "source": "# Step 2: Write code here\nname=input(\"Enter a name: \")\naction=input(\"Enter a past tense verb: \")\nfamily=input(\"Enter a family member (ex: mom, dad, uncle, etc..): \")\nprint(\"Hello. My name is %s. You %s my %s. Prepare to die!\" %(name , action , family))",
      "execution_count": 8,
      "outputs": [
        {
          "output_type": "stream",
          "name": "stdout",
          "text": "Enter a name: Becky\nEnter a past tense verb: Ate\nEnter a family member (ex: mom, dad, uncle, etc..): Mom\nHello. My name is Becky. You Ate my Mom. Prepare to die!\n"
        }
      ]
    },
    {
      "metadata": {
        "trusted": true
      },
      "cell_type": "code",
      "source": "",
      "execution_count": null,
      "outputs": []
    },
    {
      "metadata": {},
      "cell_type": "markdown",
      "source": "## Step 3: Questions\n\n1. What happens when you neglect the instructions and enter a past-tense action instead of a name? Does the code still run? Why?\n\nAnswer:  Yes because the program has no way of knowing if what you entered is a name or a past tense action because they're both strings.\n\n2. What type of error is it when the program runs but does not handle bad input?\n\nAnswer:  Runtime error\n\n\n3. Is there anything you can do in code to correct this type of error? Why or why not?\n\nAnswer:  Rerun the program and enter a correct input. \n\n"
    },
    {
      "metadata": {},
      "cell_type": "markdown",
      "source": "## Step 4: Reflection\n\nReflect upon your experience completing this assignment. This should be a personal narrative, in your own voice, and cite specifics relevant to the activity as to help the grader understand how you arrived at the code you submitted. Things to consider touching upon: Elaborate on the process itself. Did your original problem analysis work as designed?  How many iterations did you go through before you arrived at the solution? Where did you struggle along the way and how did you overcome it? What did you learn from completing the assignment? What do you need to work on to get better? What was most valuable and least valuable about this exercise? Do you have any suggestions for improvements?\n\nTo make a good reflection, you should journal your thoughts, questions and comments while you complete the exercise.\n\nKeep your response to between 100 and 250 words.\n\n`--== Write Your Reflection Below Here ==--`\nI was able to write the code, but it wouldn't run at first becasue I forgot to put the s after the %. It took me a few tries to understand my error. I understand this topic and feel confident to move on. One thing that I have trouble remembering is the name and definitons of different errors and how to fix different errors I'm given. "
    }
  ],
  "metadata": {
    "anaconda-cloud": {},
    "kernelspec": {
      "name": "python3",
      "display_name": "Python 3",
      "language": "python"
    },
    "language_info": {
      "mimetype": "text/x-python",
      "nbconvert_exporter": "python",
      "name": "python",
      "file_extension": ".py",
      "version": "3.5.4",
      "pygments_lexer": "ipython3",
      "codemirror_mode": {
        "version": 3,
        "name": "ipython"
      }
    },
    "toc": {
      "base_numbering": 1,
      "nav_menu": {},
      "number_sections": false,
      "sideBar": false,
      "skip_h1_title": false,
      "title_cell": "Table of Contents",
      "title_sidebar": "Contents",
      "toc_cell": false,
      "toc_position": {},
      "toc_section_display": false,
      "toc_window_display": false
    }
  },
  "nbformat": 4,
  "nbformat_minor": 1
}