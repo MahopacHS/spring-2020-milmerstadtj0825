{
  "cells": [
    {
      "metadata": {},
      "cell_type": "markdown",
      "source": "# Now You Code 1: Hello 2 Ways\n\nWrite a Python program which prompts you to input your first name and then your last name. It should then print your name two ways First Last and Last, First. For example:\n\n```\nWhat is your first name? Michael\nWhat is your last name? Fudge\nHello, Michael Fudge\nOr should I say Fudge, Michael\n```\n"
    },
    {
      "metadata": {
        "collapsed": true
      },
      "cell_type": "markdown",
      "source": "## Step 1: Problem Analysis\n\nInputs:\n\nOutputs:\n\nAlgorithm (Steps in Program):\n\n"
    },
    {
      "metadata": {
        "trusted": true
      },
      "cell_type": "code",
      "source": "# Step 2: Write code here\nx=input(\"What is your first name?\")\ny=input(\"What is your last name?\")\nprint(\"Hi there\", x, y)\nprint(\"Or should I say\", y,\",\", x)",
      "execution_count": 4,
      "outputs": [
        {
          "output_type": "stream",
          "name": "stdout",
          "text": "What is your first name?Jeannie\nWhat is your last name?Milmerstadt\nHi there Jeannie Milmerstadt\nOr should I say Milmerstadt , Jeannie\n"
        }
      ]
    },
    {
      "metadata": {},
      "cell_type": "markdown",
      "source": "## Step 3: Questions\n\n1. What happens when you do not follow the instructions and enter your first name as your last name? Does the code still run? Why?\n\nAnswer:   It still runs because the program doesn't know what your first name is or what your last name is in real life. All you're doing is inputting a code for the x variable and a code for the y variable.\n\n2. What type of error is it when the program runs but does not handle bad input?\n\nAnswer:   Syntax error\n\n3. Is there anything you can do in code to correct this type of error? Why or why not?\n\nAnswer: Rewrite your code correctly   \n\n"
    },
    {
      "metadata": {},
      "cell_type": "markdown",
      "source": "## Step 4: Reflection\n\nReflect upon your experience completing this assignment. This should be a personal narrative, in your own voice, and cite specifics relevant to the activity as to help the grader understand how you arrived at the code you submitted. Things to consider touching upon: Elaborate on the process itself. Did your original problem analysis work as designed?  How many iterations did you go through before you arrived at the solution? Where did you struggle along the way and how did you overcome it? What did you learn from completing the assignment? What do you need to work on to get better? What was most valuable and least valuable about this exercise? Do you have any suggestions for improvements?\n\nTo make a good reflection, you should journal your thoughts, questions and comments while you complete the exercise.\n\nKeep your response to between 100 and 250 words.\n\n`--== Write Your Reflection Below Here ==--`\nI was able to write the code easily on the first try. After running the code the first time though, I realized that I don't have a comma after my last name when I did (last name, first name), so I rewrote the code to include a comma after the last name. This was difficult at first but after 2 trials, I realized that I should put the comma in quotation marks. Overall, the coding was easy for me, but I had trouble answering questions 2 and 3. I took a guess, but I'm not sure what the different error names are and what they mean. Learning and understanding that topic is something I hope to improve on. \n"
    }
  ],
  "metadata": {
    "anaconda-cloud": {},
    "kernelspec": {
      "name": "python3",
      "display_name": "Python 3",
      "language": "python"
    },
    "language_info": {
      "mimetype": "text/x-python",
      "nbconvert_exporter": "python",
      "name": "python",
      "pygments_lexer": "ipython3",
      "version": "3.5.4",
      "file_extension": ".py",
      "codemirror_mode": {
        "version": 3,
        "name": "ipython"
      }
    },
    "toc": {
      "base_numbering": 1,
      "nav_menu": {},
      "number_sections": false,
      "sideBar": false,
      "skip_h1_title": false,
      "title_cell": "Table of Contents",
      "title_sidebar": "Contents",
      "toc_cell": false,
      "toc_position": {},
      "toc_section_display": false,
      "toc_window_display": false
    }
  },
  "nbformat": 4,
  "nbformat_minor": 1
}