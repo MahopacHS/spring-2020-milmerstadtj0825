{
  "cells": [
    {
      "metadata": {},
      "cell_type": "markdown",
      "source": "## Now You Code In Class: Where Can I Get Something to Eat?\n\nLet's write an application which uses the Zomato api https://developers.zomato.com/api to provide access to local area restaurants.\n\nThe basic gist of the application will be:\n\n1. ask for a location\n2. ask for the type of cuisine you are interested in\n3. output restaurant suggestions \n4. when one is selected display the address and phone number.\n\n\nYou should try to implement the following functions below. I suggest taking a **bottom-up problem solving approach**, first writing the function, testing it, and then finally using them in the main program. Remember good functions should do one thing well and have data inputs and data outputs through the return statement. They should be immutable, meaning the function does not change data but instead it returns the data back to the caller.\n\nOnce you implement the functions, implement your main program. Then implement any error handling.\n"
    },
    {
      "metadata": {},
      "cell_type": "markdown",
      "source": "## Step 1: Problem Analysis\n\nInputs:\n\nOutputs:\n\nAlgorithm (Steps in Program):\n"
    },
    {
      "metadata": {
        "trusted": false
      },
      "cell_type": "code",
      "source": "import requests \n\nzomato_key = 'EnterYourKeyHere'\n\ndef get_city_id(zomato_key, city_state):\n    '''\n        returns the first city_id in the search results, None when there are no results.\n        return city_id \n    '''\n    # todo: implement here\n    \n\ndef search_area(zomato_key, city_id, keywords):\n    '''\n        returns a list of restaurants in the city_id matching keywords\n        return list of restaurants \n    '''\n    # todo: implement here\n\ndef restaurant_details(zomato_key, rest_id):\n    '''\n        returns a details of a restaurant given the rest_id \n        return on success: {'status' : 'ok', 'message' : 'ok', 'details' : details }\n        return on failure: {'status' : 'error', 'message' : 'Reason for failure.', 'details' : None }\n    '''\n    # todo: implement here\n\n    \n    \n# MAIN\n",
      "execution_count": 1,
      "outputs": []
    },
    {
      "metadata": {
        "trusted": false
      },
      "cell_type": "code",
      "source": "",
      "execution_count": 15,
      "outputs": []
    },
    {
      "metadata": {
        "trusted": false
      },
      "cell_type": "code",
      "source": "",
      "execution_count": null,
      "outputs": []
    }
  ],
  "metadata": {
    "kernelspec": {
      "name": "python3",
      "display_name": "Python 3",
      "language": "python"
    },
    "language_info": {
      "mimetype": "text/x-python",
      "nbconvert_exporter": "python",
      "name": "python",
      "file_extension": ".py",
      "version": "3.5.4",
      "pygments_lexer": "ipython3",
      "codemirror_mode": {
        "version": 3,
        "name": "ipython"
      }
    },
    "toc": {
      "base_numbering": 1,
      "nav_menu": {},
      "number_sections": false,
      "sideBar": false,
      "skip_h1_title": false,
      "title_cell": "Table of Contents",
      "title_sidebar": "Contents",
      "toc_cell": false,
      "toc_position": {},
      "toc_section_display": false,
      "toc_window_display": false
    }
  },
  "nbformat": 4,
  "nbformat_minor": 2
}